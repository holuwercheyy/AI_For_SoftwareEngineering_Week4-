{
  "nbformat": 4,
  "nbformat_minor": 0,
  "metadata": {
    "colab": {
      "provenance": [],
      "authorship_tag": "ABX9TyOgeMhWEMaNxpNDySzATdF2",
      "include_colab_link": true
    },
    "kernelspec": {
      "name": "python3",
      "display_name": "Python 3"
    },
    "language_info": {
      "name": "python"
    }
  },
  "cells": [
    {
      "cell_type": "markdown",
      "metadata": {
        "id": "view-in-github",
        "colab_type": "text"
      },
      "source": [
        "<a href=\"https://colab.research.google.com/github/holuwercheyy/AI_For_SoftwareEngineering_Week4-/blob/main/AI_Bias.ipynb\" target=\"_parent\"><img src=\"https://colab.research.google.com/assets/colab-badge.svg\" alt=\"Open In Colab\"/></a>"
      ]
    },
    {
      "cell_type": "code",
      "execution_count": 1,
      "metadata": {
        "colab": {
          "base_uri": "https://localhost:8080/"
        },
        "id": "SgdLmUOKZ5NP",
        "outputId": "cc694912-0885-406b-f1be-cb0742cb0649"
      },
      "outputs": [
        {
          "output_type": "stream",
          "name": "stdout",
          "text": [
            "Collecting aif360\n",
            "  Downloading aif360-0.6.1-py3-none-any.whl.metadata (5.0 kB)\n",
            "Requirement already satisfied: numpy>=1.16 in /usr/local/lib/python3.11/dist-packages (from aif360) (2.0.2)\n",
            "Requirement already satisfied: scipy>=1.2.0 in /usr/local/lib/python3.11/dist-packages (from aif360) (1.15.3)\n",
            "Requirement already satisfied: pandas>=0.24.0 in /usr/local/lib/python3.11/dist-packages (from aif360) (2.2.2)\n",
            "Requirement already satisfied: scikit-learn>=1.0 in /usr/local/lib/python3.11/dist-packages (from aif360) (1.6.1)\n",
            "Requirement already satisfied: matplotlib in /usr/local/lib/python3.11/dist-packages (from aif360) (3.10.0)\n",
            "Requirement already satisfied: python-dateutil>=2.8.2 in /usr/local/lib/python3.11/dist-packages (from pandas>=0.24.0->aif360) (2.9.0.post0)\n",
            "Requirement already satisfied: pytz>=2020.1 in /usr/local/lib/python3.11/dist-packages (from pandas>=0.24.0->aif360) (2025.2)\n",
            "Requirement already satisfied: tzdata>=2022.7 in /usr/local/lib/python3.11/dist-packages (from pandas>=0.24.0->aif360) (2025.2)\n",
            "Requirement already satisfied: joblib>=1.2.0 in /usr/local/lib/python3.11/dist-packages (from scikit-learn>=1.0->aif360) (1.5.1)\n",
            "Requirement already satisfied: threadpoolctl>=3.1.0 in /usr/local/lib/python3.11/dist-packages (from scikit-learn>=1.0->aif360) (3.6.0)\n",
            "Requirement already satisfied: contourpy>=1.0.1 in /usr/local/lib/python3.11/dist-packages (from matplotlib->aif360) (1.3.2)\n",
            "Requirement already satisfied: cycler>=0.10 in /usr/local/lib/python3.11/dist-packages (from matplotlib->aif360) (0.12.1)\n",
            "Requirement already satisfied: fonttools>=4.22.0 in /usr/local/lib/python3.11/dist-packages (from matplotlib->aif360) (4.58.5)\n",
            "Requirement already satisfied: kiwisolver>=1.3.1 in /usr/local/lib/python3.11/dist-packages (from matplotlib->aif360) (1.4.8)\n",
            "Requirement already satisfied: packaging>=20.0 in /usr/local/lib/python3.11/dist-packages (from matplotlib->aif360) (24.2)\n",
            "Requirement already satisfied: pillow>=8 in /usr/local/lib/python3.11/dist-packages (from matplotlib->aif360) (11.2.1)\n",
            "Requirement already satisfied: pyparsing>=2.3.1 in /usr/local/lib/python3.11/dist-packages (from matplotlib->aif360) (3.2.3)\n",
            "Requirement already satisfied: six>=1.5 in /usr/local/lib/python3.11/dist-packages (from python-dateutil>=2.8.2->pandas>=0.24.0->aif360) (1.17.0)\n",
            "Downloading aif360-0.6.1-py3-none-any.whl (259 kB)\n",
            "\u001b[2K   \u001b[90m━━━━━━━━━━━━━━━━━━━━━━━━━━━━━━━━━━━━━━━━\u001b[0m \u001b[32m259.7/259.7 kB\u001b[0m \u001b[31m3.4 MB/s\u001b[0m eta \u001b[36m0:00:00\u001b[0m\n",
            "\u001b[?25hInstalling collected packages: aif360\n",
            "Successfully installed aif360-0.6.1\n"
          ]
        }
      ],
      "source": [
        "pip install aif360"
      ]
    },
    {
      "cell_type": "code",
      "source": [
        "pip install aif360[Restrictions]"
      ],
      "metadata": {
        "colab": {
          "base_uri": "https://localhost:8080/"
        },
        "id": "7ef48dtcaCt5",
        "outputId": "8f44ec54-81bb-4fa4-9f7d-a55fb7e996ec"
      },
      "execution_count": 2,
      "outputs": [
        {
          "output_type": "stream",
          "name": "stdout",
          "text": [
            "Requirement already satisfied: aif360[Restrictions] in /usr/local/lib/python3.11/dist-packages (0.6.1)\n",
            "\u001b[33mWARNING: aif360 0.6.1 does not provide the extra 'restrictions'\u001b[0m\u001b[33m\n",
            "\u001b[0mRequirement already satisfied: numpy>=1.16 in /usr/local/lib/python3.11/dist-packages (from aif360[Restrictions]) (2.0.2)\n",
            "Requirement already satisfied: scipy>=1.2.0 in /usr/local/lib/python3.11/dist-packages (from aif360[Restrictions]) (1.15.3)\n",
            "Requirement already satisfied: pandas>=0.24.0 in /usr/local/lib/python3.11/dist-packages (from aif360[Restrictions]) (2.2.2)\n",
            "Requirement already satisfied: scikit-learn>=1.0 in /usr/local/lib/python3.11/dist-packages (from aif360[Restrictions]) (1.6.1)\n",
            "Requirement already satisfied: matplotlib in /usr/local/lib/python3.11/dist-packages (from aif360[Restrictions]) (3.10.0)\n",
            "Requirement already satisfied: python-dateutil>=2.8.2 in /usr/local/lib/python3.11/dist-packages (from pandas>=0.24.0->aif360[Restrictions]) (2.9.0.post0)\n",
            "Requirement already satisfied: pytz>=2020.1 in /usr/local/lib/python3.11/dist-packages (from pandas>=0.24.0->aif360[Restrictions]) (2025.2)\n",
            "Requirement already satisfied: tzdata>=2022.7 in /usr/local/lib/python3.11/dist-packages (from pandas>=0.24.0->aif360[Restrictions]) (2025.2)\n",
            "Requirement already satisfied: joblib>=1.2.0 in /usr/local/lib/python3.11/dist-packages (from scikit-learn>=1.0->aif360[Restrictions]) (1.5.1)\n",
            "Requirement already satisfied: threadpoolctl>=3.1.0 in /usr/local/lib/python3.11/dist-packages (from scikit-learn>=1.0->aif360[Restrictions]) (3.6.0)\n",
            "Requirement already satisfied: contourpy>=1.0.1 in /usr/local/lib/python3.11/dist-packages (from matplotlib->aif360[Restrictions]) (1.3.2)\n",
            "Requirement already satisfied: cycler>=0.10 in /usr/local/lib/python3.11/dist-packages (from matplotlib->aif360[Restrictions]) (0.12.1)\n",
            "Requirement already satisfied: fonttools>=4.22.0 in /usr/local/lib/python3.11/dist-packages (from matplotlib->aif360[Restrictions]) (4.58.5)\n",
            "Requirement already satisfied: kiwisolver>=1.3.1 in /usr/local/lib/python3.11/dist-packages (from matplotlib->aif360[Restrictions]) (1.4.8)\n",
            "Requirement already satisfied: packaging>=20.0 in /usr/local/lib/python3.11/dist-packages (from matplotlib->aif360[Restrictions]) (24.2)\n",
            "Requirement already satisfied: pillow>=8 in /usr/local/lib/python3.11/dist-packages (from matplotlib->aif360[Restrictions]) (11.2.1)\n",
            "Requirement already satisfied: pyparsing>=2.3.1 in /usr/local/lib/python3.11/dist-packages (from matplotlib->aif360[Restrictions]) (3.2.3)\n",
            "Requirement already satisfied: six>=1.5 in /usr/local/lib/python3.11/dist-packages (from python-dateutil>=2.8.2->pandas>=0.24.0->aif360[Restrictions]) (1.17.0)\n"
          ]
        }
      ]
    },
    {
      "cell_type": "code",
      "source": [
        "# COMPAS Recidivism Bias Audit using AI Fairness 360\n",
        "\n",
        "# 📦 Step 1: Import Required Libraries\n",
        "import pandas as pd\n",
        "import matplotlib.pyplot as plt\n",
        "from sklearn.linear_model import LogisticRegression\n",
        "from sklearn.preprocessing import StandardScaler\n",
        "from sklearn.metrics import accuracy_score\n",
        "\n",
        "from aif360.datasets import CompasDataset\n",
        "from aif360.metrics import BinaryLabelDatasetMetric, ClassificationMetric\n",
        "from aif360.algorithms.preprocessing import Reweighing\n",
        "\n",
        "# 📥 Step 2: Load the Dataset\n",
        "dataset = CompasDataset()\n",
        "\n",
        "# Define groups\n",
        "privileged_groups = [{'race': 1}]   # Caucasian\n",
        "unprivileged_groups = [{'race': 0}] # African-American\n",
        "\n",
        "# 🧮 Step 3: Check Initial Bias\n",
        "metric = BinaryLabelDatasetMetric(dataset, privileged_groups=privileged_groups,\n",
        "                                   unprivileged_groups=unprivileged_groups)\n",
        "\n",
        "print(\"### Initial Fairness Metrics ###\")\n",
        "print(\"Statistical Parity Difference:\", metric.statistical_parity_difference())\n",
        "print(\"Disparate Impact:\", metric.disparate_impact())\n",
        "\n",
        "# ✂ Step 4: Split into Train/Test\n",
        "train, test = dataset.split([0.7], shuffle=True)\n",
        "\n",
        "# ⚖ Step 5: Apply Reweighing\n",
        "rw = Reweighing(unprivileged_groups=unprivileged_groups,\n",
        "                privileged_groups=privileged_groups)\n",
        "train_rw = rw.fit_transform(train)\n",
        "\n",
        "# 🎯 Step 6: Train Classifier\n",
        "X_train = train_rw.features\n",
        "y_train = train_rw.labels.ravel()\n",
        "X_test = test.features\n",
        "y_test = test.labels.ravel()\n",
        "\n",
        "scaler = StandardScaler()\n",
        "X_train = scaler.fit_transform(X_train)\n",
        "X_test = scaler.transform(X_test)\n",
        "\n",
        "clf = LogisticRegression(max_iter=1000)\n",
        "clf.fit(X_train, y_train)\n",
        "y_pred = clf.predict(X_test)\n",
        "\n",
        "# 🔄 Step 7: Wrap Predictions for Fairness Check\n",
        "test_pred = test.copy()\n",
        "test_pred.labels = y_pred\n",
        "\n",
        "classified_metric = ClassificationMetric(test, test_pred,\n",
        "                                         privileged_groups=privileged_groups,\n",
        "                                         unprivileged_groups=unprivileged_groups)\n",
        "\n",
        "# 📊 Step 8: Output Post-Prediction Metrics\n",
        "print(\"\\n### Post-Prediction Fairness Metrics ###\")\n",
        "print(\"Accuracy:\", accuracy_score(y_test, y_pred))\n",
        "print(\"Disparate Impact:\", classified_metric.disparate_impact())\n",
        "print(\"Equal Opportunity Difference:\", classified_metric.equal_opportunity_difference())\n",
        "print(\"False Positive Rate Difference:\", classified_metric.false_positive_rate_difference())\n",
        "\n",
        "# 📈 Step 9: Visualize Fairness Metrics\n",
        "labels = ['Disparate Impact', 'Equal Opp. Diff', 'FPR Diff']\n",
        "values = [classified_metric.disparate_impact(),\n",
        "          classified_metric.equal_opportunity_difference(),\n",
        "          classified_metric.false_positive_rate_difference()]\n",
        "\n",
        "plt.figure(figsize=(8, 5))\n",
        "plt.bar(labels, values, color='steelblue')\n",
        "plt.title('Fairness Metrics After Prediction')\n",
        "plt.ylabel('Metric Value')\n",
        "plt.axhline(0, color='black', linestyle='--')\n",
        "plt.ylim(-1.5, 2)\n",
        "plt.grid(axis='y')\n",
        "plt.show()\n",
        "\n",
        "# 📝 Step 10: Summary\n",
        "summary = \"\"\"\n",
        "Summary of Audit:\n",
        "- Initial dataset showed strong statistical disparities between racial groups.\n",
        "- Reweighing helped to reduce, but not eliminate, these disparities.\n",
        "- Model still showed differences in false positive and opportunity rates.\n",
        "- Further remediation or model changes (e.g., adversarial debiasing) recommended.\n",
        "\n",
        "Recommendation:\n",
        "- Combine preprocessing (reweighing) with post-processing or fairness-aware classifiers.\n",
        "- Avoid black-box models in criminal justice applications.\n",
        "\"\"\"\n",
        "\n",
        "print(summary)"
      ],
      "metadata": {
        "colab": {
          "base_uri": "https://localhost:8080/",
          "height": 832
        },
        "id": "n5mk2b-Aaizn",
        "outputId": "cd50381f-81c7-4e8a-e0c9-45af4f64382a"
      },
      "execution_count": 5,
      "outputs": [
        {
          "output_type": "stream",
          "name": "stderr",
          "text": [
            "WARNING:root:Missing Data: 5 rows removed from CompasDataset.\n"
          ]
        },
        {
          "output_type": "stream",
          "name": "stdout",
          "text": [
            "### Initial Fairness Metrics ###\n",
            "Statistical Parity Difference: -0.09713793951315464\n",
            "Disparate Impact: 0.8403836674666473\n",
            "\n",
            "### Post-Prediction Fairness Metrics ###\n",
            "Accuracy: 0.678011885467315\n",
            "Disparate Impact: 0.7870833427621009\n",
            "Equal Opportunity Difference: -0.07035442518963375\n",
            "False Positive Rate Difference: -0.160043401600434\n"
          ]
        },
        {
          "output_type": "display_data",
          "data": {
            "text/plain": [
              "<Figure size 800x500 with 1 Axes>"
            ],
            "image/png": "[encoded data removed]"
          },
          "metadata": {}
        },
        {
          "output_type": "stream",
          "name": "stdout",
          "text": [
            "\n",
            "Summary of Audit:\n",
            "- Initial dataset showed strong statistical disparities between racial groups.\n",
            "- Reweighing helped to reduce, but not eliminate, these disparities.\n",
            "- Model still showed differences in false positive and opportunity rates.\n",
            "- Further remediation or model changes (e.g., adversarial debiasing) recommended.\n",
            "\n",
            "Recommendation:\n",
            "- Combine preprocessing (reweighing) with post-processing or fairness-aware classifiers.\n",
            "- Avoid black-box models in criminal justice applications.\n",
            "\n"
          ]
        }
      ]
    },
    {
      "cell_type": "code",
      "metadata": {
        "colab": {
          "base_uri": "https://localhost:8080/"
        },
        "id": "374cdba2",
        "outputId": "5a11ef47-07f4-4677-ad2c-02d6e0676fe2"
      },
      "source": [
        "import os\n",
        "\n",
        "# Create the directory if it doesn't exist\n",
        "data_dir = '/usr/local/lib/python3.11/dist-packages/aif360/data/raw/compas'\n",
        "os.makedirs(data_dir, exist_ok=True)\n",
        "\n",
        "# Download the dataset\n",
        "dataset_url = 'https://raw.githubusercontent.com/propublica/compas-analysis/master/compas-scores-two-years.csv'\n",
        "dataset_path = os.path.join(data_dir, 'compas-scores-two-years.csv')\n",
        "\n",
        "# Use wget to download the file\n",
        "!wget -O {dataset_path} {dataset_url}"
      ],
      "execution_count": 4,
      "outputs": [
        {
          "output_type": "stream",
          "name": "stdout",
          "text": [
            "--2025-07-11 07:39:11--  https://raw.githubusercontent.com/propublica/compas-analysis/master/compas-scores-two-years.csv\n",
            "Resolving raw.githubusercontent.com (raw.githubusercontent.com)... 185.199.108.133, 185.199.111.133, 185.199.110.133, ...\n",
            "Connecting to raw.githubusercontent.com (raw.githubusercontent.com)|185.199.108.133|:443... connected.\n",
            "HTTP request sent, awaiting response... 200 OK\n",
            "Length: 2546489 (2.4M) [text/plain]\n",
            "Saving to: ‘/usr/local/lib/python3.11/dist-packages/aif360/data/raw/compas/compas-scores-two-years.csv’\n",
            "\n",
            "/usr/local/lib/pyth 100%[===================>]   2.43M  --.-KB/s    in 0.07s   \n",
            "\n",
            "2025-07-11 07:39:12 (32.9 MB/s) - ‘/usr/local/lib/python3.11/dist-packages/aif360/data/raw/compas/compas-scores-two-years.csv’ saved [2546489/2546489]\n",
            "\n"
          ]
        }
      ]
    }
  ]
}